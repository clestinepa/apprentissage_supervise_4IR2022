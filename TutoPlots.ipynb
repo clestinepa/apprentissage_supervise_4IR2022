{
 "cells": [
  {
   "cell_type": "code",
   "execution_count": null,
   "metadata": {},
   "outputs": [],
   "source": [
    "from sklearn import tree\n",
    "from matplotlib import pyplot as plt\n",
    "\n",
    "# X is the training set \n",
    "# Each example in X has 4 binary features\n",
    "X = [\n",
    "    [0, 0, 1, 0],\n",
    "    [0, 1, 0, 1],\n",
    "    [1, 1, 0, 0],\n",
    "    [1, 0, 1, 1],\n",
    "    [0, 0, 0, 1],\n",
    "    [1, 0, 1, 0],\n",
    "    [1, 0, 0, 0],\n",
    "    [0, 1, 0, 0],\n",
    "    [1, 1, 1, 0],\n",
    "    [1, 1, 1, 0],\n",
    "]\n",
    "\n",
    "# Y is the classes associated with the training set. \n",
    "# For instance the label of the first and second example is 1; of the third example is 0, etc\n",
    "Y = [1, 1, 0, 0, 1, 1, 1, 0, 0, 1]\n",
    "\n",
    "clf = tree.DecisionTreeClassifier()\n",
    "clf = clf.fit(X, Y)\n",
    "\n",
    "clf.predict([[1,1,1,1] , [0,1,0,0] , [1,1,0,1] ])"
   ]
  },
  {
   "cell_type": "code",
   "execution_count": null,
   "metadata": {},
   "outputs": [],
   "source": [
    "text_representation = tree.export_text(clf)\n",
    "print(text_representation)"
   ]
  },
  {
   "cell_type": "code",
   "execution_count": null,
   "metadata": {},
   "outputs": [],
   "source": [
    "fig = plt.figure(figsize=(10,7))\n",
    "_ = tree.plot_tree(clf, \n",
    "                   feature_names= (\"f1\",\"f2\" , \"f3\", \"f4\"),\n",
    "                   class_names= (\"false (0)\", \"true (1)\" ), \n",
    "                   filled=True)\n"
   ]
  },
  {
   "cell_type": "markdown",
   "metadata": {},
   "source": [
    "# Présentation du dataset\n",
    "\n",
    "Les features sont:\n",
    "- Race (race_African-American, race_Caucasian)\n",
    "- Genre (gender_Female, gender_Male)\n",
    "- Age (age_18-20, age_21-22, age_23-25, age_26-45, age_>45)\n",
    "- Crime en étant mineur (juvenile-felonies_=0, juvenile-felonies_>0, juvenile-misdemeanors_=0, juvenile-misdemeanors_>0, juvenile-crimes_=0, juvenile-crimes_>0)\n",
    "- Antécédants (priors_0, priors_1, priors_2-3, priors_>3)\n",
    "- Type de crime (charge_degree_Misdemeanor, charge_degree_Felony)\n",
    "- Récidive\n",
    "\n",
    "# Réductions\n",
    "\n",
    "On peut réduire le dataset en supprimant toutes les colones redondantes (not et \\_\\_AND\\_\\_).\n"
   ]
  },
  {
   "cell_type": "code",
   "execution_count": null,
   "metadata": {},
   "outputs": [],
   "source": [
    "import csv\n",
    "import numpy as np\n",
    "from utils import load_from_csv\n",
    "\n",
    "train_examples, original_train_label, features, prediction = load_from_csv(\"./dataset.csv\")\n",
    "\n",
    "def clean_dataset(examples, features):\n",
    "    drop = []\n",
    "    for i, feature in enumerate(features):\n",
    "        if False and (\"__AND__\" in feature or \"not\" in feature):\n",
    "            drop.append(i)\n",
    "    return np.delete(examples, drop, 1), np.delete(features, drop, 0)\n",
    "\n",
    "\n",
    "def extract_train_data(data, labels, count=0.8):\n",
    "    count = int(data.shape[0] * count)\n",
    "    index = np.arange(data.shape[0])\n",
    "    np.random.shuffle(index)\n",
    "    return data[index[:count],:], labels[index[:count]], data[index[count:],:], labels[index[count:]]\n",
    "\n",
    "cleaned_examples, cleaned_features = clean_dataset(train_examples, features)\n",
    "\n",
    "train_examples, train_labels, other_examples, other_labels = extract_train_data(cleaned_examples, original_train_label)\n",
    "\n",
    "\n",
    "other_results = []\n",
    "train_results = []\n",
    "for d in range(1, 30):\n",
    "    clf = tree.DecisionTreeClassifier(\n",
    "        max_depth=d\n",
    "    )\n",
    "    clf = clf.fit(train_examples, train_labels)\n",
    "\n",
    "    result = clf.predict(other_examples)\n",
    "    other_results.append(np.sum(result != other_labels) / other_labels.shape[0])\n",
    "    result = clf.predict(train_examples)\n",
    "    train_results.append(np.sum(result != train_labels) / train_labels.shape[0])\n",
    "\n",
    "\n",
    "plt.plot(range(1, 30), other_results, label=\"new data error\")\n",
    "plt.plot(range(1, 30), train_results, label=\"train data error\")\n",
    "plt.legend()\n",
    "plt.title(\"Pourcentage d'erreur en fonction de la profondeur de l'analyse\")\n",
    "plt.show()"
   ]
  },
  {
   "cell_type": "code",
   "execution_count": null,
   "metadata": {},
   "outputs": [],
   "source": [
    "other_results = []\n",
    "train_results = []\n",
    "for d in range(1, 100):\n",
    "    clf = tree.DecisionTreeClassifier(\n",
    "        min_samples_leaf=d\n",
    "    )\n",
    "    clf = clf.fit(train_examples, train_labels)\n",
    "\n",
    "    result = clf.predict(other_examples)\n",
    "    other_results.append(np.sum(result != other_labels) / other_labels.shape[0])\n",
    "    result = clf.predict(train_examples)\n",
    "    train_results.append(np.sum(result != train_labels) / train_labels.shape[0])\n",
    "\n",
    "\n",
    "plt.plot(range(1, 100), other_results, label=\"new data error\")\n",
    "plt.plot(range(1, 100), train_results, label=\"train data error\")\n",
    "plt.legend()\n",
    "plt.title(\"Pourcentage d'erreur en fonction du minimum par feuille\")\n",
    "plt.show()\n"
   ]
  },
  {
   "cell_type": "code",
   "execution_count": null,
   "metadata": {},
   "outputs": [],
   "source": [
    "other_results = []\n",
    "train_results = []\n",
    "for d in [\"best\", \"random\"]:\n",
    "    s_o = 0\n",
    "    s_t = 0\n",
    "    for i in range(100):\n",
    "        train_examples, train_labels, other_examples, other_labels = extract_train_data(cleaned_examples, original_train_label)\n",
    "        clf = tree.DecisionTreeClassifier(\n",
    "            splitter=d\n",
    "        )\n",
    "        clf = clf.fit(train_examples, train_labels)\n",
    "\n",
    "        result = clf.predict(other_examples)\n",
    "        s_o += np.sum(result != other_labels) / other_labels.shape[0]\n",
    "        result = clf.predict(train_examples)\n",
    "        s_t += np.sum(result != train_labels) / train_labels.shape[0]\n",
    "    other_results.append(s_o / 100)\n",
    "    train_results.append(s_t / 100)\n",
    "\n",
    "\n",
    "plt.plot([\"best\", \"random\"], other_results, label=\"new data error\")\n",
    "plt.plot([\"best\", \"random\"], train_results, label=\"train data error\")\n",
    "plt.legend()\n",
    "plt.title(\"Pourcentage d'erreur en fonction du choix du split\")\n",
    "plt.show()"
   ]
  },
  {
   "cell_type": "code",
   "execution_count": null,
   "metadata": {},
   "outputs": [],
   "source": [
    "# 5-cross-validation\n",
    "\n",
    "kf = KFold(n_splits=2)\n",
    "#j'adore les licornes <3\n",
    "#c'est trop trop bien <3\n",
    "#et les pizza c'est trop bon <3"
   ]
  },
  {
   "cell_type": "code",
   "execution_count": null,
   "metadata": {},
   "outputs": [],
   "source": [
    "true_positive = "
   ]
  }
 ],
 "metadata": {
  "kernelspec": {
   "display_name": "Python 3",
   "language": "python",
   "name": "python3"
  },
  "language_info": {
   "codemirror_mode": {
    "name": "ipython",
    "version": 3
   },
   "file_extension": ".py",
   "mimetype": "text/x-python",
   "name": "python",
   "nbconvert_exporter": "python",
   "pygments_lexer": "ipython3",
   "version": "3.8.3"
  }
 },
 "nbformat": 4,
 "nbformat_minor": 4
}
